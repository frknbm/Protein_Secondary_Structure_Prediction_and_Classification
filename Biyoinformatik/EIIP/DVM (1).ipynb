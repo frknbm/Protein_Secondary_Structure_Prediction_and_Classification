{
  "nbformat": 4,
  "nbformat_minor": 0,
  "metadata": {
    "colab": {
      "provenance": []
    },
    "kernelspec": {
      "name": "python3",
      "display_name": "Python 3"
    },
    "language_info": {
      "name": "python"
    }
  },
  "cells": [
    {
      "cell_type": "code",
      "execution_count": 14,
      "metadata": {
        "colab": {
          "base_uri": "https://localhost:8080/"
        },
        "id": "erMrg_b4kLYe",
        "outputId": "90e0360f-030d-4620-ea62-9f08ef46d45c"
      },
      "outputs": [
        {
          "output_type": "stream",
          "name": "stdout",
          "text": [
            "Requirement already satisfied: openpyxl in /usr/local/lib/python3.10/dist-packages (3.1.2)\n",
            "Requirement already satisfied: et-xmlfile in /usr/local/lib/python3.10/dist-packages (from openpyxl) (1.1.0)\n"
          ]
        }
      ],
      "source": [
        "!pip install openpyxl\n"
      ]
    },
    {
      "cell_type": "code",
      "source": [
        "\n",
        "import pandas as pd\n",
        "import numpy as np\n",
        "from sklearn.metrics import accuracy_score, f1_score, precision_score, recall_score, confusion_matrix\n",
        "from sklearn.preprocessing import LabelEncoder\n",
        "etiketleyici = LabelEncoder().fit(veri.Sınıflar)\n",
        "etiketler = etiketleyici.transform(veri.Sınıflar)\n",
        "siniflar = list(etiketleyici.classes_)\n",
        "\n",
        "# Eğitim verisinin hazırlanması\n",
        "egitimVerisi = veri.drop([\"Sınıflar\"],axis=1)\n",
        "\n",
        "# Verilerin normalleştiriliyor\n",
        "from sklearn.preprocessing import MinMaxScaler\n",
        "olcek = MinMaxScaler().fit(egitimVerisi.values)\n",
        "egitim = olcek.transform(egitimVerisi.values)\n",
        "\n",
        "# Verisetinin eğitim ve test olarak ayrılması\n",
        "from sklearn.model_selection import train_test_split\n",
        "X_egitim, X_test, y_egitim, y_test = train_test_split(egitimVerisi, etiketler, test_size = 0.20)\n",
        "\n",
        "from sklearn.impute import SimpleImputer\n",
        "import numpy as np\n",
        "\n",
        "# NaN değerlerini ortalama ile değiştirerek bir doldurucu Oluşturulması\n",
        "doldur = SimpleImputer(missing_values=np.nan, strategy='mean')\n",
        "\n",
        "# Doldurucunun veriye Uygulanması\n",
        "X_EgitimDolu = doldur.fit_transform(X_egitim)\n",
        "\n",
        "# SVM modelinin çağrılması\n",
        "from sklearn import svm\n",
        "\n",
        "# SVM sınıflandırıcısının Oluşturulması\n",
        "clf = svm.SVC(kernel='linear')\n",
        "\n",
        "# SVM modelinin eğitim verisine uygulanması\n",
        "clf.fit(X_EgitimDolu, y_egitim)\n",
        "\n",
        "# Test verisinin doldurulması\n",
        "X_TestDolu= doldur.transform(X_test)\n",
        "\n",
        "# Tahminlerin yapılması\n",
        "y_tahmin = clf.predict(X_TestDolu)\n",
        "\n",
        "# Performans metriklerinin hesaplanması\n",
        "from sklearn import metrics\n",
        "dogru = metrics.accuracy_score(y_test, y_tahmin)\n",
        "f1 = metrics.f1_score(y_test, y_tahmin, average='weighted')\n",
        "kesin = metrics.precision_score(y_test, y_tahmin, average='weighted', zero_division=0)\n",
        "duyar= metrics.recall_score(y_test, y_tahmin, average='weighted')\n",
        "karmasikMatris = metrics.confusion_matrix(y_test, y_tahmin)\n",
        "\n",
        "# Sonuçların yazdırılması\n",
        "print(f\"Doğruluk: {dogru}\")\n",
        "print(f\"F1 Skoru: {f1}\")\n",
        "print(f\"Kesinlik: {kesin}\")\n",
        "print(f\"Duyarlılık: {duyar}\")\n",
        "print(\"Karmaşıklık matrisi:\\n\", karmasikMatris)\n",
        "\n",
        "# Veri boyutlarının kontrol edilmesi\n",
        "print(\"X_test boyutu:\", X_test.shape)\n",
        "print(\"X_egitim boyutu:\", X_egitim.shape)\n",
        "\n",
        "# Verilerin tekrar boyutlandırılması ve tahminlerin incelenmesi\n",
        "import numpy as np\n",
        "X_test = np.array(X_test).reshape(2, 32640, 1)\n",
        "X_egitim = np.array(X_egitim).reshape(2, 130560, 1)\n",
        "\n",
        "for i in range(len(X_test)):\n",
        "    print(X_test[i], y_tahmin[i])\n",
        "\n",
        "print(X_test[1])\n",
        "y_tahmin[1]\n",
        "\n"
      ],
      "metadata": {
        "colab": {
          "base_uri": "https://localhost:8080/"
        },
        "id": "rFCgwWx_kXAv",
        "outputId": "fe615f17-8307-428c-c312-2d14224dc291"
      },
      "execution_count": 19,
      "outputs": [
        {
          "output_type": "stream",
          "name": "stdout",
          "text": [
            "Doğruluk: 0.9958333333333333\n",
            "F1 Skoru: 0.9937543493389005\n",
            "Kesinlik: 0.9916840277777778\n",
            "Duyarlılık: 0.9958333333333333\n",
            "Karmaşıklık matrisi:\n",
            " [[  0   0   1]\n",
            " [  0   0   1]\n",
            " [  0   0 478]]\n",
            "X_test boyutu: (480, 136)\n",
            "X_egitim boyutu: (1920, 136)\n",
            "[[0.0823]\n",
            " [0.    ]\n",
            " [0.0371]\n",
            " ...\n",
            " [   nan]\n",
            " [   nan]\n",
            " [   nan]] 8\n",
            "[[0.005 ]\n",
            " [0.0198]\n",
            " [0.005 ]\n",
            " ...\n",
            " [   nan]\n",
            " [   nan]\n",
            " [   nan]] 8\n",
            "[[0.005 ]\n",
            " [0.0198]\n",
            " [0.005 ]\n",
            " ...\n",
            " [   nan]\n",
            " [   nan]\n",
            " [   nan]]\n"
          ]
        },
        {
          "output_type": "execute_result",
          "data": {
            "text/plain": [
              "8"
            ]
          },
          "metadata": {},
          "execution_count": 19
        }
      ]
    },
    {
      "cell_type": "code",
      "source": [],
      "metadata": {
        "id": "_k3nfQ5op-B3"
      },
      "execution_count": null,
      "outputs": []
    }
  ]
}