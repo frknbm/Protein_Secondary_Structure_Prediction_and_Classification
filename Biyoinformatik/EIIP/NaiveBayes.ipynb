{
  "nbformat": 4,
  "nbformat_minor": 0,
  "metadata": {
    "colab": {
      "provenance": []
    },
    "kernelspec": {
      "name": "python3",
      "display_name": "Python 3"
    },
    "language_info": {
      "name": "python"
    }
  },
  "cells": [
    {
      "cell_type": "code",
      "execution_count": 12,
      "metadata": {
        "colab": {
          "base_uri": "https://localhost:8080/"
        },
        "id": "BSnMu3i3fMqg",
        "outputId": "aa7120e5-1835-40f6-d047-4794d92ce836"
      },
      "outputs": [
        {
          "output_type": "stream",
          "name": "stdout",
          "text": [
            "Doğruluk: 1.0\n",
            "F1 Skoru: 1.0\n",
            "Kesinlik: 1.0\n",
            "Duyarlılık: 1.0\n",
            "Karmaşıklık Matrisi:\n",
            " [[480]]\n",
            "Eğitim Verisi Şekli: (2, 130560, 1)\n",
            "Eğitim Etiketi Şekli: (1920,)\n",
            "[[0.0823    ]\n",
            " [0.0371    ]\n",
            " [0.0198    ]\n",
            " ...\n",
            " [0.04246   ]\n",
            " [0.04786053]\n",
            " [0.05782   ]] 8\n",
            "[[0.005     ]\n",
            " [0.0198    ]\n",
            " [0.        ]\n",
            " ...\n",
            " [0.04246   ]\n",
            " [0.04786053]\n",
            " [0.05782   ]] 8\n",
            "[[0.005     ]\n",
            " [0.0198    ]\n",
            " [0.        ]\n",
            " ...\n",
            " [0.04246   ]\n",
            " [0.04786053]\n",
            " [0.05782   ]]\n"
          ]
        },
        {
          "output_type": "execute_result",
          "data": {
            "text/plain": [
              "8"
            ]
          },
          "metadata": {},
          "execution_count": 12
        }
      ],
      "source": [
        "from sklearn.metrics import accuracy_score\n",
        "from sklearn.metrics import f1_score\n",
        "from sklearn.metrics import precision_score\n",
        "from sklearn.metrics import recall_score\n",
        "from sklearn.metrics import confusion_matrix\n",
        "# Veri Excel'den okunuyor\n",
        "veri = pd.read_excel('/content/EIIPSayi (1).xlsx')\n",
        "\n",
        "# Etiketleri Kodlamak İçin Bir Etiketleyici Kullanılıyor\n",
        "from sklearn.preprocessing import LabelEncoder\n",
        "etiketleyici = LabelEncoder().fit(veri['Sınıflar'])\n",
        "etiketler = etiketleyici.transform(veri['Sınıflar'])\n",
        "\n",
        "# Özellikleri ve Etiketleri Ayırmak, 'Sınıflar' Sütununu Kaldırılması\n",
        "ozellikler = veri.drop(['Sınıflar'], axis=1)\n",
        "etiket = etiketler\n",
        "\n",
        "# Eksik Verileri Doldurmak İçin Bir Doldurucu Oluşturulması ve Uygulanması\n",
        "from sklearn.impute import SimpleImputer\n",
        "doldurucu = SimpleImputer(strategy='mean')\n",
        "dolu_veri = doldurucu.fit_transform(ozellikler)\n",
        "\n",
        "# Veri Setini Eğitim ve Test Olarak Bölmek\n",
        "from sklearn.model_selection import train_test_split\n",
        "egitim, test, EgitimEt, TestEt = train_test_split(dolu_veri, etiket, test_size=0.20, random_state=42)\n",
        "\n",
        "# Naif Bayes Modeli Oluşturulması ve Eğitilmesi\n",
        "from sklearn.naive_bayes import GaussianNB\n",
        "naif_bayes_modeli = GaussianNB()\n",
        "naif_bayes_modeli.fit(egitim, EgitimEt)\n",
        "\n",
        "# Test Verisi Üzerinde Tahmin Yapılması\n",
        "tahminEtiketler = naif_bayes_modeli.predict(test)\n",
        "\n",
        "# Performans Metriklerinin Hesaplanması\n",
        "dogruluk = accuracy_score(TestEt, tahminEtiketler)\n",
        "f1_skoru = f1_score(TestEt, tahminEtiketler, average='weighted')\n",
        "kesinlik = precision_score(TestEt, tahminEtiketler, average='weighted', zero_division=0)\n",
        "duyarlılık = recall_score(TestEt, tahminEtiketler, average='weighted', zero_division=0)\n",
        "karmaşıklık_matrisi = confusion_matrix(TestEt, tahminEtiketler)\n",
        "\n",
        "# Sonuçları Yazdırmak\n",
        "print(f\"Doğruluk: {dogruluk}\")\n",
        "print(f\"F1 Skoru: {f1_skoru}\")\n",
        "print(f\"Kesinlik: {kesinlik}\")\n",
        "print(f\"Duyarlılık: {duyarlılık}\")\n",
        "print(\"Karmaşıklık Matrisi:\\n\", karmaşıklık_matrisi)\n",
        "\n",
        "# Veri Boyutlarını Değiştirmek\n",
        "import numpy as np\n",
        "test = np.array(test).reshape(2, 32640, 1)\n",
        "egitim = np.array(egitim).reshape(2, 130560, 1)\n",
        "print(\"Eğitim Verisi Şekli:\", egitim.shape)\n",
        "print(\"Eğitim Etiketi Şekli:\", EgitimEt.shape)\n",
        "\n",
        "# Test Verisi Üzerindeki Tahminlerin İncelemek\n",
        "for i in range(len(test)):\n",
        "    print(test[i],tahminEtiketler[i])\n",
        "\n",
        "print(test[1])\n",
        "tahminEtiketler[1]\n",
        "\n"
      ]
    },
    {
      "cell_type": "code",
      "source": [],
      "metadata": {
        "id": "81aLFl68fmim"
      },
      "execution_count": null,
      "outputs": []
    }
  ]
}