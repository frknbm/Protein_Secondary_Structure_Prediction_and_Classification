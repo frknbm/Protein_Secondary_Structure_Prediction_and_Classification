{
  "nbformat": 4,
  "nbformat_minor": 0,
  "metadata": {
    "colab": {
      "provenance": []
    },
    "kernelspec": {
      "name": "python3",
      "display_name": "Python 3"
    },
    "language_info": {
      "name": "python"
    }
  },
  "cells": [
    {
      "cell_type": "code",
      "source": [
        "import pandas as pd\n",
        "\n",
        "# Amino asitlerin EIIP değerlerini içeren sözlük\n",
        "EIIPDeger = {\n",
        "    'M': 0.0823, 'W': 0.0548, 'F': 0.0946, 'Y': 0.0516, 'P': 0.0198,\n",
        "    'C': 0.0829, 'T': 0.0941, 'H': 0.0242, 'V': 0.0057, 'L': 0.0,\n",
        "    'Q': 0.0761, 'S': 0.0829, 'A': 0.0373, 'N': 0.0036, 'G': 0.0050, 'X': 0.0,\n",
        "    'R': 0.0959, 'I': 0.0, 'D': 0.1263, 'E': 0.0058, 'K': 0.0371, '*': 0.0\n",
        "}\n",
        "\n",
        "def convert_to_numeric(diziler, EIIPD):\n",
        "    sayisalD = []\n",
        "    for dizi in diziler:\n",
        "        dizi_str = str(dizi)\n",
        "        dizi_degerleri = [EIIPD.get(aa, 0) for aa in dizi_str]\n",
        "        sayisalD.append(dizi_degerleri)\n",
        "    return sayisalD\n",
        "\n",
        "# Excel dosyasından veri okuma\n",
        "excelDosya = \"/content/PSSP.xlsx\"\n",
        "df = pd.read_excel(excelDosya)\n",
        "\n",
        "# 'Seq' ve 'Sınıflar' sütunlarını listelere çevirme\n",
        "protein_diz = df['Seq'].apply(str).tolist()\n",
        "sinif = df['Sınıflar'].tolist()\n",
        "\n",
        "# Protein dizilerini sayısal değerlere dönüştürme\n",
        "sayisal_degerler_multi = convert_to_numeric(protein_diz, EIIPDeger)\n",
        "\n",
        "# Yeni DataFrame oluşturma\n",
        "df_sayisal = pd.DataFrame(sayisal_degerler_multi)\n",
        "\n",
        "# 'Sınıflar' sütununu ekleme\n",
        "df_sayisal['Sınıflar'] = sinif\n",
        "\n",
        "# Yeni Excel dosyasına yazma\n",
        "cikti_excel = \"EIIPSayi.xlsx\"\n",
        "df_sayisal.to_excel(cikti_excel, index=False)\n",
        "\n",
        "# Başarıyla tamamlandı mesajı\n",
        "print(f\"{cikti_excel} dosyası oluşturuldu.\")"
      ],
      "metadata": {
        "colab": {
          "base_uri": "https://localhost:8080/"
        },
        "id": "hukcAmbQhn0r",
        "outputId": "26d1a28e-4b57-4e89-dd82-be1566a5380a"
      },
      "execution_count": 3,
      "outputs": [
        {
          "output_type": "stream",
          "name": "stdout",
          "text": [
            "EIIPSayi.xlsx dosyası oluşturuldu.\n"
          ]
        }
      ]
    },
    {
      "cell_type": "code",
      "source": [],
      "metadata": {
        "id": "ViHk-ijphr-K"
      },
      "execution_count": null,
      "outputs": []
    }
  ]
}